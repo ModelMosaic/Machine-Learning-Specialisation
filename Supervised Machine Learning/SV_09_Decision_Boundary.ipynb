{
 "cells": [
  {
   "cell_type": "markdown",
   "id": "00676f3e",
   "metadata": {},
   "source": [
    "# Decision Boundary\n"
   ]
  },
  {
   "cell_type": "markdown",
   "id": "97ee9873",
   "metadata": {},
   "source": [
    "## Objective\n",
    "In this lab, you will:\n",
    "- learn the decision boundary\n"
   ]
  },
  {
   "cell_type": "markdown",
   "id": "68ed1b9a-43fc-4b9e-a2b7-4178ab8a718a",
   "metadata": {},
   "source": [
    "## Library"
   ]
  },
  {
   "cell_type": "code",
   "execution_count": null,
   "id": "99619a39",
   "metadata": {},
   "outputs": [],
   "source": [
    "import numpy as np\n",
    "%matplotlib widget\n",
    "import matplotlib.pyplot as plt\n",
    "from sklearn import datasets\n",
    "from sklearn.linear_model import LogisticRegression"
   ]
  },
  {
   "cell_type": "markdown",
   "id": "54e7d4b6-764b-4f57-b48b-b4fb07a24978",
   "metadata": {},
   "source": [
    "## Theory"
   ]
  },
  {
   "cell_type": "markdown",
   "id": "93a03d1f-200f-4878-98f7-535018c56daa",
   "metadata": {},
   "source": [
    "In machine learning, especially in the context of classification problems, a decision boundary is a hypersurface that partitions the underlying space into sets, one for each class. The classifier will then classify all the points on one side of the decision boundary as belonging to one class and all those on the other side as belonging to the second class."
   ]
  },
  {
   "cell_type": "markdown",
   "id": "c4b29d6f-4a10-4b58-9f69-3ca9c87e296b",
   "metadata": {},
   "source": [
    "Factors Affecting the Decision Boundary:\n",
    "- Nature of the Classifier: A linear classifier like logistic regression will always produce a straight line as the decision boundary, while non-linear classifiers like decision trees and SVM with non-linear kernels can produce more complex boundaries.\n",
    "\n",
    "- Data Distribution: If data from different classes overlap significantly, finding an accurate decision boundary becomes challenging. Outliers can also influence the shape and position of the decision boundary.\n",
    "\n",
    "- Feature Engineering: The way features are extracted and used can change the decision boundary. For instance, adding polynomial features can change a linear decision boundary to a non-linear one."
   ]
  },
  {
   "cell_type": "code",
   "execution_count": null,
   "id": "952a49f8-2b22-4d21-9392-f30878cafb31",
   "metadata": {},
   "outputs": [],
   "source": [
    "# Load iris dataset\n",
    "iris = datasets.load_iris()\n",
    "X = iris.data[:, :2]  # we only take the first two features for visualization\n",
    "y = iris.target\n",
    "\n",
    "# Create an instance of Logistic Regression and fit the data.\n",
    "logreg = LogisticRegression(C=1e5, solver='lbfgs', multi_class='multinomial')\n",
    "logreg.fit(X, y)\n",
    "\n",
    "# Plot the decision boundary. \n",
    "x_min, x_max = X[:, 0].min() - .5, X[:, 0].max() + .5\n",
    "y_min, y_max = X[:, 1].min() - .5, X[:, 1].max() + .5\n",
    "h = .02  # step size in the mesh\n",
    "xx, yy = np.meshgrid(np.arange(x_min, x_max, h), np.arange(y_min, y_max, h))\n",
    "Z = logreg.predict(np.c_[xx.ravel(), yy.ravel()])\n",
    "\n",
    "# Put the result into a color plot\n",
    "Z = Z.reshape(xx.shape)\n",
    "plt.figure(1, figsize=(8, 6))\n",
    "plt.contourf(xx, yy, Z, cmap=plt.cm.Paired, alpha=0.8)\n",
    "\n",
    "# Plot the training points\n",
    "plt.scatter(X[:, 0], X[:, 1], c=y, edgecolors='k', cmap=plt.cm.Paired)\n",
    "plt.xlabel('Sepal length')\n",
    "plt.ylabel('Sepal width')\n",
    "plt.title('Decision Boundary with Logistic Regression')\n",
    "plt.show()\n"
   ]
  },
  {
   "cell_type": "markdown",
   "id": "d45da811-aa19-4373-8972-701384b9c8f5",
   "metadata": {},
   "source": [
    "In this example, the shaded regions represent the decision boundaries created by the logistic regression classifier. Each color corresponds to a different class of the iris dataset."
   ]
  }
 ],
 "metadata": {
  "kernelspec": {
   "display_name": "Python 3 (ipykernel)",
   "language": "python",
   "name": "python3"
  },
  "language_info": {
   "codemirror_mode": {
    "name": "ipython",
    "version": 3
   },
   "file_extension": ".py",
   "mimetype": "text/x-python",
   "name": "python",
   "nbconvert_exporter": "python",
   "pygments_lexer": "ipython3",
   "version": "3.10.9"
  }
 },
 "nbformat": 4,
 "nbformat_minor": 5
}
