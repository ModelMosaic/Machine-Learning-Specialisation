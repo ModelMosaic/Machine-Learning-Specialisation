{
 "cells": [
  {
   "cell_type": "markdown",
   "id": "96049734",
   "metadata": {},
   "source": [
    "# Classification"
   ]
  },
  {
   "cell_type": "code",
   "execution_count": null,
   "id": "f9e5b1b3",
   "metadata": {},
   "outputs": [],
   "source": [
    "import numpy as np\n",
    "%matplotlib widget\n",
    "import matplotlib.pyplot as plt\n",
    "from sklearn import datasets\n",
    "from sklearn.model_selection import train_test_split\n",
    "from sklearn.preprocessing import StandardScaler\n",
    "from sklearn.linear_model import LogisticRegression"
   ]
  },
  {
   "cell_type": "markdown",
   "id": "b87bf570-8df5-4c5a-baa0-c050b0e953dc",
   "metadata": {},
   "source": [
    "# Classification\n",
    "\n",
    "## Definition:\n",
    "Classification is a type of supervised learning problem where the output variable (often called the target or label) is categorical or discrete. In other words, the aim of classification is to predict which of a set of categories or \"classes\" an input belongs to.\n",
    "\n",
    "## Examples:\n",
    "\n",
    "### Binary Classification:\n",
    "There are only two classes. For instance:\n",
    "- **Email**: Spam or Not Spam?\n",
    "- **Tumor**: Malignant or Benign?\n",
    "\n",
    "### Multiclass Classification:\n",
    "There are more than two classes. For instance:\n",
    "- **Handwritten digit recognition**: Is the digit 0, 1, 2, ... or 9?\n",
    "- **Animal classification**: Is the picture an image of a dog, cat, lion, or rabbit?\n",
    "\n",
    "### Multilabel Classification:\n",
    "An instance can belong to multiple classes. For instance:\n",
    "- **Movie genres**: A movie can be classified as both \"Action\" and \"Adventure.\"\n"
   ]
  },
  {
   "cell_type": "markdown",
   "id": "d27ca4a2-ddb0-48c3-9dfb-5983548ff184",
   "metadata": {},
   "source": [
    "Let's provide a simple example of classification using the Iris dataset from sklearn.datasets. This dataset contains 3 classes of 50 instances each, where each class refers to a type of iris plant.\n",
    "\n",
    "The objective is to classify iris flowers among three species based on the length and width of petals and sepals.\n",
    "\n",
    "Here's a basic example using the LogisticRegression classifier from sklearn:"
   ]
  },
  {
   "cell_type": "code",
   "execution_count": null,
   "id": "52384802-c6e1-4a9f-8bf0-f548b63f50c8",
   "metadata": {},
   "outputs": [],
   "source": [
    "# Load dataset\n",
    "iris = datasets.load_iris()\n",
    "X = iris.data\n",
    "y = iris.target\n",
    "\n",
    "# Split dataset into training set and test set\n",
    "X_train, X_test, y_train, y_test = train_test_split(X, y, test_size=0.3, random_state=42) # 70% training and 30% test\n",
    "\n",
    "# Feature scaling\n",
    "scaler = StandardScaler()\n",
    "X_train = scaler.fit_transform(X_train)\n",
    "X_test = scaler.transform(X_test)\n",
    "\n",
    "# Create Logistic Regression model\n",
    "model = LogisticRegression()\n",
    "\n",
    "# Train model\n",
    "model.fit(X_train, y_train)\n",
    "\n",
    "# Predictions\n",
    "y_pred = model.predict(X_test)\n",
    "\n",
    "# Check accuracy\n",
    "accuracy = (y_pred == y_test).mean()\n",
    "print(f\"Accuracy: {accuracy:.2f}\")\n"
   ]
  }
 ],
 "metadata": {
  "kernelspec": {
   "display_name": "Python 3 (ipykernel)",
   "language": "python",
   "name": "python3"
  },
  "language_info": {
   "codemirror_mode": {
    "name": "ipython",
    "version": 3
   },
   "file_extension": ".py",
   "mimetype": "text/x-python",
   "name": "python",
   "nbconvert_exporter": "python",
   "pygments_lexer": "ipython3",
   "version": "3.10.9"
  }
 },
 "nbformat": 4,
 "nbformat_minor": 5
}
