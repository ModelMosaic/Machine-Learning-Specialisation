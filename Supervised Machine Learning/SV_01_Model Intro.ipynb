{
 "cells": [
  {
   "cell_type": "markdown",
   "id": "1961ccc2",
   "metadata": {},
   "source": [
    "# Model Intro"
   ]
  },
  {
   "cell_type": "markdown",
   "id": "0f647e2b",
   "metadata": {},
   "source": [
    "## Objective\n",
    "You will understand and implement the linear regression model represented by $f_{w,b}$ for a single variable."
   ]
  },
  {
   "cell_type": "markdown",
   "id": "4d759a59-0c52-470b-a82d-5d632c2e8006",
   "metadata": {},
   "source": [
    "## Notation\n",
    "\n",
    "Key Notations\n",
    "Below is an organized breakdown of various notations you'll come across during this lab:\n",
    "\n",
    "Symbol\tDescription\tCode Equivalent\n",
    "$\\mathbf{x}$\tFeature values of the training example \tx_train\n",
    "$\\mathbf{y}$\tTarget values for training example \ty_train\n",
    "$x^{(i)}$, $y^{(i)}$\t$i_{th}$ Training Example values\tx_i, y_i\n",
    "m\tTotal number of training examples\tm\n",
    "$w$\tWeight parameter in the model\tw\n",
    "$b$\tBias parameter in the model\tb\n",
    "$f_{w,b}(x^{(i)})$\tModel's output for $x^{(i)}$ using parameters $w$ and $b$. Mathematically, $f_{w,b}(x^{(i)}) = wx^{(i)}+b$"
   ]
  },
  {
   "cell_type": "markdown",
   "id": "bf595c73",
   "metadata": {},
   "source": [
    "## Essential Tools"
   ]
  },
  {
   "cell_type": "code",
   "execution_count": null,
   "id": "5b10ca3d",
   "metadata": {},
   "outputs": [],
   "source": [
    "import numpy as np\n",
    "import matplotlib.pyplot as plt"
   ]
  },
  {
   "cell_type": "markdown",
   "id": "1b6f934b",
   "metadata": {},
   "source": [
    "# Problem Overview\n",
    "\n",
    "Using a housing price prediction example, we'll work with data from two houses:\n",
    "\n",
    "| Size (1000 sqft)     | Price (1000s of dollars) |\n",
    "| -------------------| ------------------------ |\n",
    "| 2.5               | 800                      |\n",
    "| 4.0               | 1200                      |\n",
    "Our goal: Use linear regression to predict the price of other houses, like one that's 1200 sqft.\n"
   ]
  },
  {
   "cell_type": "code",
   "execution_count": null,
   "id": "9658b198",
   "metadata": {},
   "outputs": [],
   "source": [
    "x_train = np.array([2.5, 4.0])\n",
    "y_train = np.array([800.0, 1200.0])\n",
    "print(f\"x_train = {x_train}\")\n",
    "print(f\"y_train = {y_train}\")"
   ]
  },
  {
   "cell_type": "markdown",
   "id": "0e9939d5",
   "metadata": {},
   "source": [
    "### Training examples `m`"
   ]
  },
  {
   "cell_type": "code",
   "execution_count": null,
   "id": "e008c067",
   "metadata": {},
   "outputs": [],
   "source": [
    "print(f\"Train shape: {x_train.shape}\")\n",
    "print(f\"Training examples: {x_train.shape[0]}\")"
   ]
  },
  {
   "cell_type": "code",
   "execution_count": null,
   "id": "4b517109",
   "metadata": {},
   "outputs": [],
   "source": [
    "print(f\"Training examples: {len(x_train)}\")"
   ]
  },
  {
   "cell_type": "markdown",
   "id": "8c94b15d",
   "metadata": {},
   "source": [
    "### Training example `x_i, y_i`\n",
    "\n",
    "(x$^{(i)}$, y$^{(i)}$) denotes the $i^{th}$ training example."
   ]
  },
  {
   "cell_type": "code",
   "execution_count": null,
   "id": "5e279cbd",
   "metadata": {},
   "outputs": [],
   "source": [
    "i = 0 \n",
    "print(f\"(x^({i}), y^({i})) = ({x_train[i]}, {y_train[i]})\")"
   ]
  },
  {
   "cell_type": "markdown",
   "id": "7b22fd44",
   "metadata": {},
   "source": [
    "### Plotting the data"
   ]
  },
  {
   "cell_type": "code",
   "execution_count": null,
   "id": "8a56cd20",
   "metadata": {},
   "outputs": [],
   "source": [
    "# Plotting the housing prices data\n",
    "plt.scatter(x_train, y_train, marker='x', c='r')\n",
    "plt.title(\"Housing Prices\")\n",
    "plt.xlabel('Size (1000 sqft)')\n",
    "plt.ylabel('Price (in 1000s of dollars)')\n",
    "plt.show()"
   ]
  },
  {
   "cell_type": "markdown",
   "id": "d7f677b5",
   "metadata": {},
   "source": [
    "## Model Definition\n",
    "\n",
    "In the context of linear regression, the correlation between the input `x` and the output `y` is encapsulated by:\n",
    "\n",
    "$$ f_{w,b}(x^{(i)}) = wx^{(i)} + b \\tag{1}$$\n",
    "\n",
    "Here:\n",
    "- The equation outlines a straight line.\n",
    "- \\( w \\) dictates the slope.\n",
    "- \\( b \\) defines the y-intercept.\n",
    "\n",
    "By tweaking \\( w \\) and \\( b \\), we can represent diverse lines on a chart.\n"
   ]
  },
  {
   "cell_type": "code",
   "execution_count": null,
   "id": "db1a7873",
   "metadata": {},
   "outputs": [],
   "source": [
    "w = 100\n",
    "b = 100\n",
    "print(f\"w: {w}\")\n",
    "print(f\"b: {b}\")"
   ]
  },
  {
   "cell_type": "markdown",
   "id": "4864ac7c",
   "metadata": {},
   "source": [
    "## Calculating Model Values\n",
    "\n",
    "Let's determine the value of \\( f_{w,b}(x^{(i)}) \\) for our two data points. This can be elaborated for each point:\n",
    "\n",
    "- For \\( x^{(0)} \\): \n",
    "  \\[ f_{wb} = w \\times x[0] + b \\]\n",
    "  \n",
    "- For \\( x^{(1)} \\): \n",
    "  \\[ f_{wb} = w \\times x[1] + b \\]"
   ]
  },
  {
   "cell_type": "code",
   "execution_count": null,
   "id": "90e248e4",
   "metadata": {},
   "outputs": [],
   "source": [
    "def compute_model_output(x, w, b):\n",
    "    \"\"\"\n",
    "    Calculate the predictions using a linear model.\n",
    "    \n",
    "    Parameters:\n",
    "    - x (ndarray (m,)): Input data containing m examples.\n",
    "    - w, b (scalar): Model parameters.\n",
    "\n",
    "    Returns:\n",
    "    - predictions (ndarray (m,)): Model's output predictions.\n",
    "    \"\"\"    \n",
    "    predictions = w * x + b\n",
    "    return predictions"
   ]
  },
  {
   "cell_type": "code",
   "execution_count": null,
   "id": "2d03694f-f97a-4947-93e3-6267455bbc35",
   "metadata": {},
   "outputs": [],
   "source": [
    "w = 50\n",
    "b= 10"
   ]
  },
  {
   "cell_type": "markdown",
   "id": "fbd268e0",
   "metadata": {},
   "source": [
    "Now let's call the `compute_model_output` function and plot the output.."
   ]
  },
  {
   "cell_type": "code",
   "execution_count": null,
   "id": "30565259",
   "metadata": {},
   "outputs": [],
   "source": [
    "# Calculate model predictions\n",
    "predictions = predict_linear_model(x_train, w, b)\n",
    "\n",
    "# Plotting the data and predictions\n",
    "plt.plot(x_train, predictions, c='b', label='Model Prediction')\n",
    "plt.scatter(x_train, y_train, marker='x', c='r', label='Actual Data')\n",
    "plt.title(\"Housing Prices\")\n",
    "plt.xlabel('Size (1000 sqft)')\n",
    "plt.ylabel('Price (in 1000s of dollars)')\n",
    "plt.legend()\n",
    "plt.show()"
   ]
  },
  {
   "cell_type": "markdown",
   "id": "51a9c9cd",
   "metadata": {},
   "source": [
    "### Prediction\n",
    "Lets make a prediction"
   ]
  },
  {
   "cell_type": "code",
   "execution_count": null,
   "id": "f97a05b4",
   "metadata": {},
   "outputs": [],
   "source": [
    "w, b = 5, 10\n",
    "x_value = 1.2\n",
    "predicted_cost = w * x_value + b\n",
    "\n",
    "print(f\"${predicted_cost:.0f}K\")"
   ]
  }
 ],
 "metadata": {
  "kernelspec": {
   "display_name": "Python 3 (ipykernel)",
   "language": "python",
   "name": "python3"
  },
  "language_info": {
   "codemirror_mode": {
    "name": "ipython",
    "version": 3
   },
   "file_extension": ".py",
   "mimetype": "text/x-python",
   "name": "python",
   "nbconvert_exporter": "python",
   "pygments_lexer": "ipython3",
   "version": "3.10.9"
  },
  "toc-autonumbering": false
 },
 "nbformat": 4,
 "nbformat_minor": 5
}
