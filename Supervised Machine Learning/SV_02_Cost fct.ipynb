{
 "cells": [
  {
   "cell_type": "markdown",
   "id": "ca1b13c7",
   "metadata": {},
   "source": [
    "# Cost Function \n"
   ]
  },
  {
   "cell_type": "markdown",
   "id": "79e08691",
   "metadata": {},
   "source": [
    "## Objective\n",
    "You will implement and delve into the cost function for single-variable linear regression."
   ]
  },
  {
   "cell_type": "markdown",
   "id": "efefd604",
   "metadata": {},
   "source": [
    "## Library"
   ]
  },
  {
   "cell_type": "code",
   "execution_count": null,
   "id": "fc3b55e1",
   "metadata": {},
   "outputs": [],
   "source": [
    "import numpy as np\n",
    "%matplotlib widget\n",
    "import matplotlib.pyplot as plt"
   ]
  },
  {
   "cell_type": "markdown",
   "id": "69f70b01",
   "metadata": {},
   "source": [
    "## Cost Calculation\n",
    "\n",
    "The formula to compute the cost for a single variable is:\n",
    "\n",
    "\\[\n",
    "J(w,b) = \\frac{1}{2m} \\sum\\limits_{i = 0}^{m-1} (f_{w,b}(x^{(i)}) - y^{(i)})^2 \\tag{1}\n",
    "\\]\n",
    "\n",
    "In which:\n",
    "\n",
    "\\[\n",
    "f_{w,b}(x^{(i)}) = wx^{(i)} + b \\tag{2}\n",
    "\\]\n",
    "\n",
    "- \\(f_{w,b}(x^{(i)})\\) represents our model's prediction for the \\(i^{th}\\) example using the parameters \\(w\\) and \\(b\\).\n",
    "- The term \\((f_{w,b}(x^{(i)}) -y^{(i)})^2\\) gives the squared discrepancy between the actual value and our model's prediction.\n",
    "- To compute the overall cost, \\(J(w,b)\\), we accumulate these squared differences for all \\(m\\) samples and then divide by `2m`."
   ]
  },
  {
   "cell_type": "code",
   "execution_count": null,
   "id": "d831d77b-3048-4200-ba55-280309ba802c",
   "metadata": {},
   "outputs": [],
   "source": [
    "x_train = np.array([1.0, 2.0])           \n",
    "y_train = np.array([300.0, 500.0])          "
   ]
  },
  {
   "cell_type": "code",
   "execution_count": null,
   "id": "2af4a40e",
   "metadata": {},
   "outputs": [],
   "source": [
    "def compute_cost(x, y, w, b): \n",
    "    \"\"\"\n",
    "    Evaluate the cost function for linear regression.\n",
    "    \n",
    "    Parameters:\n",
    "      x (ndarray (m,)): Data samples with m instances\n",
    "      y (ndarray (m,)): Corresponding target values\n",
    "      w,b (scalar)    : Model's linear parameters\n",
    "    \n",
    "    Returns:\n",
    "        cost_value (float): The resulting cost when using w,b as parameters for the linear regression on x and y\n",
    "    \"\"\"\n",
    "    m = len(x)\n",
    "    squared_errors = [(w * x[i] + b - y[i]) ** 2 for i in range(m)]\n",
    "    cost_value = sum(squared_errors) / (2 * m)\n",
    "\n",
    "    return cost_value"
   ]
  }
 ],
 "metadata": {
  "kernelspec": {
   "display_name": "Python 3 (ipykernel)",
   "language": "python",
   "name": "python3"
  },
  "language_info": {
   "codemirror_mode": {
    "name": "ipython",
    "version": 3
   },
   "file_extension": ".py",
   "mimetype": "text/x-python",
   "name": "python",
   "nbconvert_exporter": "python",
   "pygments_lexer": "ipython3",
   "version": "3.10.9"
  },
  "toc-autonumbering": false
 },
 "nbformat": 4,
 "nbformat_minor": 5
}
