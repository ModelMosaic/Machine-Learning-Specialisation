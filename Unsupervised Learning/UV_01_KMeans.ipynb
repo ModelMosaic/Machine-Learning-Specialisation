{
 "cells": [
  {
   "cell_type": "markdown",
   "id": "ea99ddc5-f972-4d3f-b8da-aa027d61c74a",
   "metadata": {},
   "source": [
    "# K-means Clustering\n",
    "\n",
    "K-means is one of the simplest and widely used unsupervised machine learning algorithms that can partition a dataset into a set of non-overlapping subgroups, known as clusters. The objective is to find groups in the data, with the number of groups being represented by the variable \\( K \\).\n",
    "\n",
    "## How does K-means work?\n",
    "\n",
    "1. **Initialization**: Randomly select \\( K \\) data points (seeds) to be the initial centroids.\n",
    "2. **Assignment**: Assign each data point to the nearest centroid, and it will inherit that centroid's cluster label.\n",
    "3. **Update**: Calculate the new mean (centroid) for each cluster. This will be the mean of all the points assigned to that cluster.\n",
    "4. **Repeat**: Repeat the assignment and update steps iteratively until no improvement is made, meaning the assignments no longer change.\n",
    "\n",
    "## Key Points to Remember:\n",
    "\n",
    "- The outcome might differ based on the initial seeds. So, the algorithm might yield different results on different runs.\n",
    "- The value of \\( K \\) needs to be specified beforehand. One common method to find a reasonably good value of \\( K \\) is the \"Elbow Method\".\n",
    "- K-means is sensitive to the scale of the data. Hence, it's often recommended to scale your data before applying K-means clustering.\n",
    "- It's a linear clustering algorithm, meaning it works best when the clusters are spherical and equally sized.\n",
    "\n",
    "## Mathematical Objective:\n",
    "\n",
    "K-means aims to minimize the total within-cluster variance, or, equivalently, the sum of squared distances from each point to its assigned center. Formally, if \\( c(i) \\) is the cluster to which instance \\( i \\) is assigned, and \\( \\mu_{c(i)} \\) is the centroid of cluster \\( c(i) \\), the objective \\( J \\) to be minimized is:\n",
    "\n",
    "$$ J = \\sum_{i=1}^{m} ||x^{(i)} - \\mu_{c(i)}||^2 $$\n",
    "\n",
    "Where:\n",
    "- $$ x^{(i)} $$ is a data point.\n",
    "- $$ \\mu_{c(i)} $$ is the centroid of the assigned cluster for $$ x^{(i)} $$.\n",
    "- \\( m \\) is the number of data points.\n",
    "\n",
    "## Limitations:\n",
    "\n",
    "- Not suitable for clusters with complex shapes and sizes.\n",
    "- Sensitivity to the initial placement of centroids.\n",
    "- It may not work well with clusters of different sizes and densities.\n",
    "\n",
    "To overcome some of these limitations, other algorithms like K-medoids, Hierarchical clustering, or DBSCAN can be considered."
   ]
  },
  {
   "cell_type": "markdown",
   "id": "3868f864-dea5-4461-a770-0e8d7e2ad597",
   "metadata": {},
   "source": [
    "## Libraries"
   ]
  },
  {
   "cell_type": "code",
   "execution_count": null,
   "id": "4228eeee-63fb-443b-9bfb-18b33fb956cc",
   "metadata": {},
   "outputs": [],
   "source": [
    "import numpy as np\n",
    "import matplotlib.pyplot as plt\n",
    "from sklearn.cluster import KMeans\n",
    "from sklearn.datasets import make_blobs"
   ]
  },
  {
   "cell_type": "code",
   "execution_count": null,
   "id": "86ed5377-ad95-467a-817e-f458968d534f",
   "metadata": {},
   "outputs": [],
   "source": [
    "# Generating random data for clustering\n",
    "data, _ = make_blobs(n_samples=300, centers=4, cluster_std=0.60, random_state=0)\n",
    "\n",
    "# Visualizing the data\n",
    "plt.scatter(data[:, 0], data[:, 1], s=50)\n",
    "plt.title('Data Points')\n",
    "plt.xlabel('X1')\n",
    "plt.ylabel('X2')\n",
    "plt.show()\n",
    "\n",
    "# Using KMeans to cluster the data into 4 clusters\n",
    "kmeans = KMeans(n_clusters=4)\n",
    "kmeans.fit(data)\n",
    "predicted_clusters = kmeans.predict(data)\n",
    "centroids = kmeans.cluster_centers_\n",
    "\n",
    "# Visualizing the clusters\n",
    "plt.scatter(data[:, 0], data[:, 1], c=predicted_clusters, s=50, cmap='viridis')\n",
    "plt.scatter(centroids[:, 0], centroids[:, 1], c='red', s=200, marker='X')\n",
    "plt.title('Clusters with Centroids')\n",
    "plt.xlabel('X1')\n",
    "plt.ylabel('X2')\n",
    "plt.show()"
   ]
  }
 ],
 "metadata": {
  "kernelspec": {
   "display_name": "Python 3 (ipykernel)",
   "language": "python",
   "name": "python3"
  },
  "language_info": {
   "codemirror_mode": {
    "name": "ipython",
    "version": 3
   },
   "file_extension": ".py",
   "mimetype": "text/x-python",
   "name": "python",
   "nbconvert_exporter": "python",
   "pygments_lexer": "ipython3",
   "version": "3.10.9"
  }
 },
 "nbformat": 4,
 "nbformat_minor": 5
}
