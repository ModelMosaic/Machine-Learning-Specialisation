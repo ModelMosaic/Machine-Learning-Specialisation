{
 "cells": [
  {
   "cell_type": "markdown",
   "id": "3cb47e33-bd8a-4769-b092-7fabb2ee7b9b",
   "metadata": {},
   "source": [
    "## Recommender System"
   ]
  },
  {
   "cell_type": "markdown",
   "id": "6cce4dc5-cab6-4633-9c2b-eee1a80f0724",
   "metadata": {},
   "source": [
    "Recommender systems are algorithms aimed at suggesting relevant items to users (items being movies to watch, books to read, products to buy, or anything else depending on industries). These systems are active information filtering systems that personalize the content delivery to users based on their interests, relevance of the content, and context. \n",
    "\n",
    "There are primarily three types of recommender systems:\n",
    "\n",
    "### 1. **Content-Based Recommender Systems**\n",
    "\n",
    "This method uses item features to recommend additional items similar to what the user likes, based on their previous actions or explicit feedback.\n",
    "\n",
    "**Mathematical Representation**:\n",
    "For a user \\( u \\) and an item \\( i \\) the predicted rating \\( r_{ui} \\) can be calculated as:\n",
    "$$ r_{ui} = \\theta_u^T x_i $$\n",
    "Where \\( \\theta_u \\) is the parameter vector for user \\( u \\) and \\( x_i \\) is the feature vector for item \\( i \\).\n",
    "\n",
    "### 2. **Collaborative Filtering Recommender Systems**\n",
    "\n",
    "This method makes automatic predictions about the interest of a user by collecting preferences from many users (collaborating). The assumption here is that if two users agree on one issue, they will likely agree on others as well.\n",
    "\n",
    "**Mathematical Representation**:\n",
    "For user \\( u \\) and item \\( i \\), the predicted rating \\( r_{ui} \\) is the dot product of user \\( u \\)'s and item \\( i \\)'s vectors in latent space.\n",
    "$$ r_{ui} = q_i^T p_u $$\n",
    "Where \\( q_i \\) is the item vector for item \\( i \\) and \\( p_u \\) is the user vector for user \\( u \\).\n",
    "\n",
    "### 3. **Hybrid Systems**\n",
    "\n",
    "These are combinations of the above two methods. Most modern recommender systems use hybrid methods.\n",
    "\n",
    "**Benefits**:\n",
    "- Improved recommendation accuracy\n",
    "- Can incorporate the strengths of both content-based and collaborative filtering\n",
    "\n",
    "Recommender systems are a significant revenue driver for industries like e-commerce, online advertising, and content businesses. They help in improving user interaction and enhancing user experience by providing personalized and relevant item recommendations.\n",
    "\n"
   ]
  },
  {
   "cell_type": "markdown",
   "id": "024662c5-9fb2-4c2c-ba2d-f47dd5d5e6e8",
   "metadata": {},
   "source": [
    "## Library"
   ]
  },
  {
   "cell_type": "code",
   "execution_count": null,
   "id": "76752f57-7f4c-4c7b-9c40-bd967f69ff3a",
   "metadata": {},
   "outputs": [],
   "source": [
    "!pip install surprise"
   ]
  },
  {
   "cell_type": "code",
   "execution_count": null,
   "id": "ae8ed63d-18b5-4406-a93d-87e3d4837303",
   "metadata": {},
   "outputs": [],
   "source": [
    "from surprise import Dataset, Reader, SVD\n",
    "from surprise.model_selection import cross_validate"
   ]
  },
  {
   "cell_type": "markdown",
   "id": "467bee6e-0ab1-4ee4-b502-f018496058c2",
   "metadata": {},
   "source": [
    "Here's a simple example using collaborative filtering with the surprise library, which is a popular library for building and analyzing recommender systems.\n",
    "\n",
    "To demonstrate, I'll use the MovieLens dataset, a commonly used dataset for building movie recommender systems. The dataset consists of ratings given by users to movies"
   ]
  },
  {
   "cell_type": "code",
   "execution_count": null,
   "id": "53e03f10-1684-4c98-a4e1-edd4ac4d000e",
   "metadata": {},
   "outputs": [],
   "source": [
    "# Load the MovieLens dataset. This may prompt you to download the dataset.\n",
    "data = Dataset.load_builtin('ml-100k')\n",
    "\n",
    "# Define the reader to specify the scale/limit of user ratings\n",
    "reader = Reader(line_format='user item rating timestamp', sep='\\t', rating_scale=(1, 5))\n",
    "\n",
    "# Use Singular Value Decomposition (SVD) algorithm - a popular matrix factorization method\n",
    "algo = SVD()\n",
    "\n",
    "# Run 5-fold cross-validation and print results\n",
    "cross_validate(algo, data, measures=['RMSE', 'MAE'], cv=5, verbose=True)"
   ]
  }
 ],
 "metadata": {
  "kernelspec": {
   "display_name": "Python 3 (ipykernel)",
   "language": "python",
   "name": "python3"
  },
  "language_info": {
   "codemirror_mode": {
    "name": "ipython",
    "version": 3
   },
   "file_extension": ".py",
   "mimetype": "text/x-python",
   "name": "python",
   "nbconvert_exporter": "python",
   "pygments_lexer": "ipython3",
   "version": "3.10.9"
  }
 },
 "nbformat": 4,
 "nbformat_minor": 5
}
