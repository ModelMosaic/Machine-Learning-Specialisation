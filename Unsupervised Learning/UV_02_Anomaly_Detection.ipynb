{
 "cells": [
  {
   "cell_type": "markdown",
   "id": "9e864deb-4bd6-4409-8b65-ad4697d71a3b",
   "metadata": {},
   "source": [
    "# Anomaly Detection"
   ]
  },
  {
   "cell_type": "markdown",
   "id": "372cf452-56af-45bc-a280-5fa562b3c305",
   "metadata": {},
   "source": [
    "Anomaly detection is a technique used in data analysis to identify patterns that do not conform to expected behavior. These non-conforming patterns are often referred to as anomalies or outliers. Detecting these anomalies is critical in various applications, such as fraud detection, network security, and fault detection.\n",
    "\n",
    "## Basic Concept\n",
    "\n",
    "In anomaly detection, we are given a dataset in which most instances are considered \"normal\". However, a small percentage of this data is anomalous. The main objective is to distinguish the anomalous instances from the normal ones.\n",
    "\n",
    "For a simple visualization, consider plotting a dataset on a 2D plane. Most data points cluster around a region representing the \"normal\" data. Points that lie significantly far away from this cluster can be considered as anomalies.\n",
    "\n",
    "## Mathematical Formulation\n",
    "\n",
    "Given a dataset \\( X \\) with instances \\( x_1, x_2, ..., x_m \\), the aim is to determine a function \\( f \\) such that:\n",
    "\n",
    "$$\n",
    "f(x_i) = \n",
    "\\begin{cases} \n",
    "1 & \\text{if } x_i \\text{ is an anomaly} \\\\\n",
    "0 & \\text{otherwise} \n",
    "\\end{cases}\n",
    "$$\n",
    "\n",
    "Typically, in an unsupervised learning context, the function \\( f \\) is determined based on the statistical properties of the dataset, without having labeled instances.\n",
    "\n",
    "## Gaussian Distribution\n",
    "\n",
    "One common approach to anomaly detection is to assume that the \"normal\" data comes from a particular distribution, usually the Gaussian distribution. For a given feature \\( x_i \\):\n",
    "\n",
    "1. Compute its mean ( \\mu \\) and variance \\( \\sigma^2 \\).\n",
    "2. Calculate the probability \\( p(x_i) \\) using the Gaussian distribution formula:\n",
    "\n",
    "$$\n",
    "p(x_i; \\mu, \\sigma^2) = \\frac{1}{\\sqrt{2\\pi\\sigma^2}} e^{-\\frac{(x_i - \\mu)^2}{2\\sigma^2}}\n",
    "$$\n",
    "\n",
    "If \\( p(x_i) \\) is very small, it's likely that \\( x_i \\) is an anomaly.\n",
    "\n",
    "## Challenges and Considerations\n",
    "\n",
    "- **Choice of Features**: The choice of features can significantly impact the performance of the anomaly detection algorithm. Features should be chosen in such a way that anomalous instances receive a low probability.\n",
    "\n",
    "- **High Dimensionality**: As the number of features increases, the computational cost can become prohibitive, and the curse of dimensionality can make instances seem equidistant, making it harder to spot anomalies.\n",
    "\n",
    "- **Scalability**: Some algorithms can be computationally intensive, making it challenging to use them on large datasets.\n",
    "\n",
    "## Conclusion\n",
    "\n",
    "Anomaly detection plays a vital role in many applications where identifying rare events that deviate from the norm is crucial. By understanding the underlying patterns and distributions in data, we can better spot and react to these anomalies.\n"
   ]
  },
  {
   "cell_type": "markdown",
   "id": "bfed1c60-da85-4fb6-a662-6241b0a9e0ff",
   "metadata": {},
   "source": [
    "## Libraries"
   ]
  },
  {
   "cell_type": "code",
   "execution_count": null,
   "id": "2296f6e3-ab15-46d5-b953-a6e79f650587",
   "metadata": {},
   "outputs": [],
   "source": [
    "import numpy as np\n",
    "import matplotlib.pyplot as plt\n",
    "from sklearn.svm import OneClassSVM"
   ]
  },
  {
   "cell_type": "markdown",
   "id": "1c7bb9e3-2152-4876-bab3-2ef9d3ece069",
   "metadata": {},
   "source": [
    "## Example"
   ]
  },
  {
   "cell_type": "markdown",
   "id": "24eb1394-825a-482c-8f22-a9f8e7829453",
   "metadata": {},
   "source": [
    "Here's a simple example using the OneClassSVM from scikit-learn for anomaly detection. This model is an unsupervised algorithm that learns a decision function for anomaly detection: classifying new data as similar or different from the training set.\n",
    "\n",
    "For this example, we'll generate synthetic data, with a majority of the data coming from a Gaussian distribution and a minority (the anomalies) from a uniform distribution:"
   ]
  },
  {
   "cell_type": "code",
   "execution_count": null,
   "id": "0230961d-4502-4e71-995e-d6fa405ce369",
   "metadata": {},
   "outputs": [],
   "source": [
    "# Generating synthetic data\n",
    "np.random.seed(42)\n",
    "X_normal = 0.3 * np.random.randn(100, 2)\n",
    "X_anomaly = np.random.uniform(low=-4, high=4, size=(20, 2))\n",
    "X = np.r_[X_normal + 2, X_normal - 2, X_anomaly]\n",
    "\n",
    "# Training the OneClassSVM\n",
    "clf = OneClassSVM(nu=0.1, kernel=\"rbf\", gamma=0.1)\n",
    "clf.fit(X)\n",
    "\n",
    "# Predict if a particular sample is an outlier or not\n",
    "y_pred = clf.predict(X)\n",
    "\n",
    "# Plotting\n",
    "plt.scatter(X[:, 0], X[:, 1], c=y_pred, edgecolors='k', cmap=plt.cm.Paired)\n",
    "plt.title(\"Anomaly Detection using OneClassSVM\")\n",
    "plt.xlabel(\"Feature 1\")\n",
    "plt.ylabel(\"Feature 2\")\n",
    "plt.show()"
   ]
  },
  {
   "cell_type": "markdown",
   "id": "34a303ab-885c-4352-b910-f21362afb40b",
   "metadata": {},
   "source": [
    "In the resulting plot, you'll see two clusters of points which represent our \"normal\" data, and scattered around them are the anomalies. The color of the points will indicate if they are considered anomalies by the OneClassSVM (darker color typically represents anomalies)."
   ]
  }
 ],
 "metadata": {
  "kernelspec": {
   "display_name": "Python 3 (ipykernel)",
   "language": "python",
   "name": "python3"
  },
  "language_info": {
   "codemirror_mode": {
    "name": "ipython",
    "version": 3
   },
   "file_extension": ".py",
   "mimetype": "text/x-python",
   "name": "python",
   "nbconvert_exporter": "python",
   "pygments_lexer": "ipython3",
   "version": "3.10.9"
  }
 },
 "nbformat": 4,
 "nbformat_minor": 5
}
