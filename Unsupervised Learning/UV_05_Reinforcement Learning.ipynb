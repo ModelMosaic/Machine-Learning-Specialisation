{
 "cells": [
  {
   "cell_type": "markdown",
   "id": "5aa9d1f8-c9c0-4f1a-9076-98be71cb2eb9",
   "metadata": {},
   "source": [
    "## Reinforcement Learning"
   ]
  },
  {
   "cell_type": "markdown",
   "id": "ae133938-86c3-4b98-94ee-0a3d32b23c3e",
   "metadata": {},
   "source": [
    "Reinforcement Learning is a type of machine learning where an agent learns how to behave in an environment by performing actions and receiving rewards. It's about taking suitable action to maximize the reward in a particular situation. It differs from supervised learning in a way that in supervised learning the training data has the answer key with it, but in RL, there is no answer but the reinforcement agent decides what to do to perform the given task.\n",
    "\n",
    "## Key Concepts in Reinforcement Learning:\n",
    "\n",
    "1. **Agent**: The learner or decision maker.\n",
    "2. **Environment**: What the agent interacts with.\n",
    "3. **Action (A)**: What the agent does. It’s typically denoted by \\(A\\).\n",
    "4. **State (S)**: Current situation returned by the environment.\n",
    "5. **Reward (R)**: Immediate return sent back from the environment to the agent after taking an action.\n",
    "\n",
    "The main objective is to select actions in a way to maximize cumulative future reward.\n",
    "\n",
    "## Equation:\n",
    "\n",
    "The central idea behind RL is the **Bellman Equation**:\n",
    "\n",
    "$$ V(s) = \\max_a \\left( R(s,a) + \\gamma \\sum_{s'} P(s' | s, a) V(s') \\right) $$\n",
    "\n",
    "Where:\n",
    "- \\( V(s) \\) is the value of state \\( s \\).\n",
    "- \\( R(s,a) \\) is the immediate reward on taking action \\( a \\) in state \\( s \\).\n",
    "- \\( \\gamma \\) is the discount factor.\n",
    "- \\( P(s' | s, a) \\) is the probability of transitioning to state \\( s' \\) after taking action \\( a \\) in state \\( s \\).\n",
    "\n",
    "## Exploration vs. Exploitation:\n",
    "\n",
    "In reinforcement learning, the agent has to decide whether to:\n",
    "- **Explore**: Try a new action to discover its effects.\n",
    "- **Exploit**: Choose an action that it knows will give it some reward.\n",
    "\n",
    "Balancing between exploration and exploitation is a major challenge in RL.\n",
    "\n",
    "## Conclusion:\n",
    "\n",
    "Reinforcement Learning has numerous applications such as game playing, robotics, recommendation systems, and many more. With the right balance of exploration and exploitation, agents can effectively learn optimal strategies.\n"
   ]
  }
 ],
 "metadata": {
  "kernelspec": {
   "display_name": "Python 3 (ipykernel)",
   "language": "python",
   "name": "python3"
  },
  "language_info": {
   "codemirror_mode": {
    "name": "ipython",
    "version": 3
   },
   "file_extension": ".py",
   "mimetype": "text/x-python",
   "name": "python",
   "nbconvert_exporter": "python",
   "pygments_lexer": "ipython3",
   "version": "3.10.9"
  }
 },
 "nbformat": 4,
 "nbformat_minor": 5
}
